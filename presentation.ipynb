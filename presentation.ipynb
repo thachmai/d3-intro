{
 "cells": [
  {
   "cell_type": "code",
   "execution_count": 1,
   "metadata": {
    "collapsed": false,
    "slideshow": {
     "slide_type": "notes"
    }
   },
   "outputs": [
    {
     "data": {
      "text/html": [
       "<!-- Load d3 library -->\n",
       "<script src=\"d3.min.js\"></script>"
      ],
      "text/plain": [
       "<IPython.core.display.HTML object>"
      ]
     },
     "metadata": {},
     "output_type": "display_data"
    }
   ],
   "source": [
    "%%HTML\n",
    "<!-- Load d3 library -->\n",
    "<script src=\"d3.min.js\"></script>"
   ]
  },
  {
   "cell_type": "markdown",
   "metadata": {
    "slideshow": {
     "slide_type": "slide"
    }
   },
   "source": [
    "# D3 Introduction\n",
    "\n",
    "*[D3.js](http://d3js.org/) is a JavaScript library for **manipulating documents** based on **data**.*\n",
    "\n",
    "D3 started its life as a data visualization library developed by [Mike Bostock](https://twitter.com/mbostock). At its core, D3 facilitates interactions with the DOM and allows you to effectively map data to DOM elements.\n",
    "\n",
    "Some important characteristics of D3:\n",
    "\n",
    "* It simplifies your access to the DOM but never obscures the DOM behind an abstraction.\n",
    "* You need strong HTML, CSS, optionally SVG and Canvas knowledge to be effective with D3.\n",
    "* The data model is **crucial**. A model that allows a simpler mapping to the DOM hugely simplifies the task."
   ]
  },
  {
   "cell_type": "markdown",
   "metadata": {
    "collapsed": true,
    "slideshow": {
     "slide_type": "slide"
    }
   },
   "source": [
    "## Let's make a table"
   ]
  },
  {
   "cell_type": "code",
   "execution_count": 2,
   "metadata": {
    "collapsed": false,
    "scrolled": false,
    "slideshow": {
     "slide_type": "subslide"
    }
   },
   "outputs": [
    {
     "data": {
      "text/html": [
       "\n",
       "<style>\n",
       ".col { display: inline-block; width: 200px; height: 30px; padding: 3px;}\n",
       ".row.even { background: lightgray; }\n",
       "#Table1 { margin: 10px 0 10px 0; }\n",
       "</style>\n",
       "\n",
       "<div id=\"Table1\" />\n",
       "\n",
       "<script>\n",
       "function Person(name, sex, height, weight) {\n",
       "    this.name = name;\n",
       "    this.sex = sex;\n",
       "    this.height = height;\n",
       "    this.weight = weight;\n",
       "}\n",
       "\n",
       "function fantasyChars() {\n",
       "    return [\n",
       "        new Person('Peter Parker', 'M', 178, 76),\n",
       "        new Person('Anakin Skywalker', 'M', 185, 84),\n",
       "        new Person('Galadriel', 'F', 193, undefined),\n",
       "        new Person('Tyrion Lannister', 'M', 95, undefined)\n",
       "    ];\n",
       "    \n",
       "}\n",
       "\n",
       "var renderTable = function (people) {\n",
       "    d3.select('#Table1').selectAll('.row').data(people)\n",
       "        .enter()\n",
       "        .append('div').attr('class', 'row')\n",
       "        .classed('even', function (d, i) { return i % 2 === 0;})\n",
       "        .html(function (d) {\n",
       "            return '<span class=\"col\">' + d.name + '</span>' +\n",
       "                '<span class=\"col\">' + d.sex + '</span>' +\n",
       "                '<span class=\"col\">' + d.height + '</span>' +\n",
       "                '<span class=\"col\">' + d.weight + '</span>';\n",
       "        });    \n",
       "}\n",
       "\n",
       "renderTable(fantasyChars());\n",
       "</script>"
      ],
      "text/plain": [
       "<IPython.core.display.HTML object>"
      ]
     },
     "metadata": {},
     "output_type": "display_data"
    }
   ],
   "source": [
    "%%HTML\n",
    "\n",
    "<style>\n",
    ".col { display: inline-block; width: 200px; height: 30px; padding: 3px;}\n",
    ".row.even { background: lightgray; }\n",
    "#Table1 { margin: 10px 0 10px 0; }\n",
    "</style>\n",
    "\n",
    "<div id=\"Table1\" />\n",
    "\n",
    "<script>\n",
    "function Person(name, sex, height, weight) {\n",
    "    this.name = name;\n",
    "    this.sex = sex;\n",
    "    this.height = height;\n",
    "    this.weight = weight;\n",
    "}\n",
    "\n",
    "function fantasyChars() {\n",
    "    return [\n",
    "        new Person('Peter Parker', 'M', 178, 76),\n",
    "        new Person('Anakin Skywalker', 'M', 185, 84),\n",
    "        new Person('Galadriel', 'F', 193, undefined),\n",
    "        new Person('Tyrion Lannister', 'M', 95, undefined)\n",
    "    ];\n",
    "    \n",
    "}\n",
    "\n",
    "var renderTable = function (people) {\n",
    "    d3.select('#Table1').selectAll('.row').data(people)\n",
    "        .enter()\n",
    "        .append('div').attr('class', 'row')\n",
    "        .classed('even', function (d, i) { return i % 2 === 0;})\n",
    "        .html(function (d) {\n",
    "            return '<span class=\"col\">' + d.name + '</span>' +\n",
    "                '<span class=\"col\">' + d.sex + '</span>' +\n",
    "                '<span class=\"col\">' + d.height + '</span>' +\n",
    "                '<span class=\"col\">' + d.weight + '</span>';\n",
    "        });    \n",
    "}\n",
    "\n",
    "renderTable(fantasyChars());\n",
    "</script>"
   ]
  },
  {
   "cell_type": "markdown",
   "metadata": {
    "slideshow": {
     "slide_type": "slide"
    }
   },
   "source": [
    "#### What happenned?\n",
    "\n",
    "* We defined a data collection and bound it to all the `.row` elements inside #Table1.\n",
    "* `enter()` defined what to do when **new** data is encountered.\n",
    "* D3 uses a fluent interface similar to jQuery.\n",
    "\n",
    "Let's play a little bit with the code:\n",
    "\n",
    "* Add `.row { background: darkgray; }` class?\n",
    "* Add/remove some data?"
   ]
  },
  {
   "cell_type": "code",
   "execution_count": 3,
   "metadata": {
    "collapsed": false,
    "slideshow": {
     "slide_type": "slide"
    }
   },
   "outputs": [
    {
     "data": {
      "application/javascript": [
       "\n",
       "// Let's add a new person\n",
       "var misty = fantasyChars();\n",
       "misty.push(new Person('Vin', 'F', undefined, undefined));\n",
       "renderTable(misty);"
      ],
      "text/plain": [
       "<IPython.core.display.Javascript object>"
      ]
     },
     "metadata": {},
     "output_type": "display_data"
    }
   ],
   "source": [
    "%%javascript\n",
    "\n",
    "// Let's add a new person\n",
    "var misty = fantasyChars();\n",
    "misty.push(new Person('Vin', 'F', undefined, undefined));\n",
    "renderTable(misty);"
   ]
  },
  {
   "cell_type": "code",
   "execution_count": 4,
   "metadata": {
    "collapsed": false,
    "slideshow": {
     "slide_type": "slide"
    }
   },
   "outputs": [
    {
     "data": {
      "application/javascript": [
       "\n",
       "// What happens if we remove a person?\n",
       "var removed = fantasyChars();\n",
       "removed.pop();\n",
       "renderTable(removed);"
      ],
      "text/plain": [
       "<IPython.core.display.Javascript object>"
      ]
     },
     "metadata": {},
     "output_type": "display_data"
    }
   ],
   "source": [
    "%%javascript\n",
    "\n",
    "// What happens if we remove a person?\n",
    "var removed = fantasyChars();\n",
    "removed.pop();\n",
    "renderTable(removed);"
   ]
  },
  {
   "cell_type": "markdown",
   "metadata": {},
   "source": [
    "#### Why adding a row works, but not removing?\n",
    "\n",
    "The contract for data removal was not defined.\n",
    "\n",
    "D3 defines the `data-join` contract for 3 cases:\n",
    "\n",
    "* `enter()` for new data elements\n",
    "* `exit()` for removed data elements\n",
    "* Direct operations on the data binding for updated data elements\n",
    "\n",
    "The convention for enter, update and exit:\n",
    "\n",
    "```javascript\n",
    "//bind data and save the reference\n",
    "var dataBinding = d3.select(parent).selectAll(boundElement).data(data_to_bind);\n",
    "\n",
    "// update only\n",
    "dataBinding.style(...).attr(...);\n",
    "\n",
    "// enter only\n",
    "dataBinding.enter().append(...).attr(...);\n",
    "\n",
    "// common section for enter + update\n",
    "dataBinding.style(...).attr(...);\n",
    "\n",
    "// exit only\n",
    "dataBinding.exit().remove();\n",
    "```"
   ]
  },
  {
   "cell_type": "markdown",
   "metadata": {},
   "source": [
    "## Let's make a table with enter() and exit()"
   ]
  },
  {
   "cell_type": "code",
   "execution_count": 5,
   "metadata": {
    "collapsed": false
   },
   "outputs": [
    {
     "data": {
      "application/javascript": [
       "\n",
       "renderTable = function (people) {\n",
       "    var tableBinding = d3.select('#Table1').selectAll('.row').data(people);\n",
       "    \n",
       "    tableBinding.enter()\n",
       "        .append('div').attr('class', 'row')\n",
       "        .classed('even', function (d, i) { return i % 2 === 0;})\n",
       "        .html(function (d) {\n",
       "            return '<span class=\"col\">' + d.name + '</span>' +\n",
       "                '<span class=\"col\">' + d.sex + '</span>' +\n",
       "                '<span class=\"col\">' + d.height + '</span>' +\n",
       "                '<span class=\"col\">' + d.weight + '</span>';\n",
       "        });\n",
       "    \n",
       "    tableBinding.exit().remove();\n",
       "}\n",
       "\n",
       "var removed = fantasyChars();\n",
       "removed.pop();\n",
       "renderTable(removed);"
      ],
      "text/plain": [
       "<IPython.core.display.Javascript object>"
      ]
     },
     "metadata": {},
     "output_type": "display_data"
    }
   ],
   "source": [
    "%%javascript\n",
    "\n",
    "renderTable = function (people) {\n",
    "    var tableBinding = d3.select('#Table1').selectAll('.row').data(people);\n",
    "    \n",
    "    tableBinding.enter()\n",
    "        .append('div').attr('class', 'row')\n",
    "        .classed('even', function (d, i) { return i % 2 === 0;})\n",
    "        .html(function (d) {\n",
    "            return '<span class=\"col\">' + d.name + '</span>' +\n",
    "                '<span class=\"col\">' + d.sex + '</span>' +\n",
    "                '<span class=\"col\">' + d.height + '</span>' +\n",
    "                '<span class=\"col\">' + d.weight + '</span>';\n",
    "        });\n",
    "    \n",
    "    tableBinding.exit().remove();\n",
    "}\n",
    "\n",
    "var removed = fantasyChars();\n",
    "removed.pop();\n",
    "renderTable(removed);"
   ]
  },
  {
   "cell_type": "markdown",
   "metadata": {},
   "source": [
    "## Let's make a table with enter(), exit() and update"
   ]
  },
  {
   "cell_type": "code",
   "execution_count": 6,
   "metadata": {
    "collapsed": false
   },
   "outputs": [
    {
     "data": {
      "text/html": [
       "\n",
       "<script>\n",
       "renderTable2 = function (people) {\n",
       "    var tableBinding = d3.select('#Table1').selectAll('.row').data(people);\n",
       "        \n",
       "    tableBinding.enter()\n",
       "        .append('div').attr('class', 'row')\n",
       "        .classed('even', function (d, i) { return i % 2 === 0;});\n",
       "    \n",
       "    tableBinding.html(function (d) {\n",
       "            return '<span class=\"col\">' + d.name + '</span>' +\n",
       "                '<span class=\"col\">' + d.sex + '</span>' +\n",
       "                '<span class=\"col\">' + d.height + '</span>' +\n",
       "                '<span class=\"col\">' + d.weight + '</span>';\n",
       "        });\n",
       "\n",
       "    tableBinding.exit().remove();\n",
       "\n",
       "};\n",
       "</script>"
      ],
      "text/plain": [
       "<IPython.core.display.HTML object>"
      ]
     },
     "metadata": {},
     "output_type": "display_data"
    }
   ],
   "source": [
    "%%HTML\n",
    "\n",
    "<script>\n",
    "renderTable2 = function (people) {\n",
    "    var tableBinding = d3.select('#Table1').selectAll('.row').data(people);\n",
    "        \n",
    "    tableBinding.enter()\n",
    "        .append('div').attr('class', 'row')\n",
    "        .classed('even', function (d, i) { return i % 2 === 0;});\n",
    "    \n",
    "    tableBinding.html(function (d) {\n",
    "            return '<span class=\"col\">' + d.name + '</span>' +\n",
    "                '<span class=\"col\">' + d.sex + '</span>' +\n",
    "                '<span class=\"col\">' + d.height + '</span>' +\n",
    "                '<span class=\"col\">' + d.weight + '</span>';\n",
    "        });\n",
    "\n",
    "    tableBinding.exit().remove();\n",
    "\n",
    "};\n",
    "</script>"
   ]
  },
  {
   "cell_type": "code",
   "execution_count": 7,
   "metadata": {
    "collapsed": false
   },
   "outputs": [
    {
     "data": {
      "application/javascript": [
       "\n",
       "var modified = fantasyChars();\n",
       "modified[1].name = 'Darth Vader';\n",
       "// this doesn't do anything since we haven't defined the operations for update\n",
       "renderTable2(modified);"
      ],
      "text/plain": [
       "<IPython.core.display.Javascript object>"
      ]
     },
     "metadata": {},
     "output_type": "display_data"
    }
   ],
   "source": [
    "%%javascript\n",
    "\n",
    "var modified = fantasyChars();\n",
    "modified[1].name = 'Darth Vader';\n",
    "// this doesn't do anything since we haven't defined the operations for update\n",
    "renderTable2(modified);"
   ]
  },
  {
   "cell_type": "markdown",
   "metadata": {},
   "source": [
    "The function `selection.html` makes it difficult to compose additional functions in D3. It should be used with care."
   ]
  },
  {
   "cell_type": "markdown",
   "metadata": {},
   "source": [
    "# Let's make a bar chart"
   ]
  },
  {
   "cell_type": "code",
   "execution_count": 8,
   "metadata": {
    "collapsed": false
   },
   "outputs": [
    {
     "data": {
      "text/html": [
       "\n",
       "<style>\n",
       ".bar { position: absolute; width: 50px; background: blue;}\n",
       ".label { position: absolute; color: lightgray; font-size: 15px; transform: rotate(-90deg);\n",
       "         transform-origin: top left; bottom: -25px; left: 15px; }\n",
       "#Table2 { margin: 10px 0 10px 0; height: 400px; position: relative;}\n",
       "</style>\n",
       "\n",
       "<div id=\"Table2\" />\n",
       "\n",
       "<script>\n",
       "var renderBar = function (people) {\n",
       "    function barHeight(d) {\n",
       "        return 400/250 * d.height;\n",
       "    }\n",
       "    \n",
       "    var barBinding = d3.select('#Table2').selectAll('.bar').data(people);\n",
       "    var barEnter = barBinding.enter();\n",
       "    \n",
       "    barEnter.append('div').attr('class', 'bar')\n",
       "        .style('top', function (d, i) {\n",
       "            return (400 - barHeight(d)) + 'px';\n",
       "        })\n",
       "        .style('left', function (d, i) {\n",
       "            return (30 + (50 + 30) * i) + 'px';\n",
       "        })\n",
       "        .style('height', function (d, i) {\n",
       "            return barHeight(d) + 'px';\n",
       "        })\n",
       "        .append('div').attr('class', 'label')\n",
       "        .text(function (d) { return d.name; });\n",
       "    \n",
       "    barBinding.exit().remove();\n",
       "}\n",
       "\n",
       "renderBar(fantasyChars());\n",
       "</script>"
      ],
      "text/plain": [
       "<IPython.core.display.HTML object>"
      ]
     },
     "metadata": {},
     "output_type": "display_data"
    }
   ],
   "source": [
    "%%HTML\n",
    "\n",
    "<style>\n",
    ".bar { position: absolute; width: 50px; background: blue;}\n",
    ".label { position: absolute; color: lightgray; font-size: 15px; transform: rotate(-90deg);\n",
    "         transform-origin: top left; bottom: -25px; left: 15px; }\n",
    "#Table2 { margin: 10px 0 10px 0; height: 400px; position: relative;}\n",
    "</style>\n",
    "\n",
    "<div id=\"Table2\" />\n",
    "\n",
    "<script>\n",
    "var renderBar = function (people) {\n",
    "    function barHeight(d) {\n",
    "        return 400/250 * d.height;\n",
    "    }\n",
    "    \n",
    "    var barBinding = d3.select('#Table2').selectAll('.bar').data(people);\n",
    "    var barEnter = barBinding.enter();\n",
    "    \n",
    "    barEnter.append('div').attr('class', 'bar')\n",
    "        .style('top', function (d, i) {\n",
    "            return (400 - barHeight(d)) + 'px';\n",
    "        })\n",
    "        .style('left', function (d, i) {\n",
    "            return (30 + (50 + 30) * i) + 'px';\n",
    "        })\n",
    "        .style('height', function (d, i) {\n",
    "            return barHeight(d) + 'px';\n",
    "        })\n",
    "        .append('div').attr('class', 'label')\n",
    "        .text(function (d) { return d.name; });\n",
    "    \n",
    "    barBinding.exit().remove();\n",
    "}\n",
    "\n",
    "renderBar(fantasyChars());\n",
    "</script>"
   ]
  },
  {
   "cell_type": "markdown",
   "metadata": {},
   "source": [
    "We can add the update contract and transition to the bar char."
   ]
  },
  {
   "cell_type": "code",
   "execution_count": 9,
   "metadata": {
    "collapsed": false
   },
   "outputs": [
    {
     "data": {
      "application/javascript": [
       "\n",
       "renderBar = function (people) {\n",
       "    function barHeight(d) {\n",
       "        return 400/250 * d.height;\n",
       "    }\n",
       "    \n",
       "    var barBinding = d3.select('#Table2').selectAll('.bar').data(people, function (d) { return d.name; });\n",
       "            \n",
       "    var barEnter = barBinding.enter().append('div').attr('class', 'bar');\n",
       "    \n",
       "    barEnter.append('div').attr('class', 'label');\n",
       "\n",
       "    barBinding.transition().duration(2000)\n",
       "        .style('top', function (d, i) {\n",
       "            return (400 - barHeight(d)) + 'px';\n",
       "        })\n",
       "        .style('left', function (d, i) {\n",
       "            console.log(d);\n",
       "            return (30 + (50 + 30) * i) + 'px';\n",
       "        })\n",
       "        .style('height', function (d, i) {\n",
       "            return barHeight(d) + 'px';\n",
       "        });\n",
       "\n",
       "    barBinding.select('.label').text(function (d) { return d.name; });\n",
       "    \n",
       "    barBinding.exit().remove();\n",
       "}"
      ],
      "text/plain": [
       "<IPython.core.display.Javascript object>"
      ]
     },
     "metadata": {},
     "output_type": "display_data"
    }
   ],
   "source": [
    "%%javascript\n",
    "\n",
    "renderBar = function (people) {\n",
    "    function barHeight(d) {\n",
    "        return 400/250 * d.height;\n",
    "    }\n",
    "    \n",
    "    var barBinding = d3.select('#Table2').selectAll('.bar').data(people, function (d) { return d.name; });\n",
    "            \n",
    "    var barEnter = barBinding.enter().append('div').attr('class', 'bar');\n",
    "    \n",
    "    barEnter.append('div').attr('class', 'label');\n",
    "\n",
    "    barBinding.transition().duration(2000)\n",
    "        .style('top', function (d, i) {\n",
    "            return (400 - barHeight(d)) + 'px';\n",
    "        })\n",
    "        .style('left', function (d, i) {\n",
    "            console.log(d);\n",
    "            return (30 + (50 + 30) * i) + 'px';\n",
    "        })\n",
    "        .style('height', function (d, i) {\n",
    "            return barHeight(d) + 'px';\n",
    "        });\n",
    "\n",
    "    barBinding.select('.label').text(function (d) { return d.name; });\n",
    "    \n",
    "    barBinding.exit().remove();\n",
    "}"
   ]
  },
  {
   "cell_type": "code",
   "execution_count": 10,
   "metadata": {
    "collapsed": false
   },
   "outputs": [
    {
     "data": {
      "application/javascript": [
       "\n",
       "var wheel = fantasyChars();\n",
       "wheel.push(new Person('al\\'Lan Mandragoran', 'M', 200, undefined));\n",
       "\n",
       "renderBar(wheel);"
      ],
      "text/plain": [
       "<IPython.core.display.Javascript object>"
      ]
     },
     "metadata": {},
     "output_type": "display_data"
    }
   ],
   "source": [
    "%%javascript\n",
    "\n",
    "var wheel = fantasyChars();\n",
    "wheel.push(new Person('al\\'Lan Mandragoran', 'M', 200, undefined));\n",
    "\n",
    "renderBar(wheel);"
   ]
  },
  {
   "cell_type": "code",
   "execution_count": 11,
   "metadata": {
    "collapsed": false
   },
   "outputs": [
    {
     "data": {
      "application/javascript": [
       "\n",
       "var males = fantasyChars().filter(function (c) { return c.name !== 'Galadriel'; });\n",
       "\n",
       "renderBar(males);"
      ],
      "text/plain": [
       "<IPython.core.display.Javascript object>"
      ]
     },
     "metadata": {},
     "output_type": "display_data"
    }
   ],
   "source": [
    "%%javascript\n",
    "\n",
    "var males = fantasyChars().filter(function (c) { return c.name !== 'Galadriel'; });\n",
    "\n",
    "renderBar(males);"
   ]
  },
  {
   "cell_type": "markdown",
   "metadata": {},
   "source": [
    "This is only the beginning. Explore the [vast](https://github.com/mbostock/d3/wiki/Gallery) [examples](http://bl.ocks.org/mbostock) [online](https://www.jasondavies.com/) to get a taste of what D3 can do.\n",
    "\n",
    "Happy hacking, and do keep me posted with your work!"
   ]
  }
 ],
 "metadata": {
  "kernelspec": {
   "display_name": "Python 3",
   "language": "python",
   "name": "python3"
  },
  "language_info": {
   "codemirror_mode": {
    "name": "ipython",
    "version": 3
   },
   "file_extension": ".py",
   "mimetype": "text/x-python",
   "name": "python",
   "nbconvert_exporter": "python",
   "pygments_lexer": "ipython3",
   "version": "3.5.0"
  }
 },
 "nbformat": 4,
 "nbformat_minor": 0
}
